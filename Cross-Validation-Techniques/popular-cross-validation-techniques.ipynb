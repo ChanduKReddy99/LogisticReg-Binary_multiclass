{
 "cells": [
  {
   "cell_type": "code",
   "execution_count": 8,
   "id": "d7263fee",
   "metadata": {},
   "outputs": [],
   "source": [
    "import pandas as pd\n",
    "import numpy as np"
   ]
  },
  {
   "cell_type": "code",
   "execution_count": 2,
   "id": "01b1f6b5",
   "metadata": {},
   "outputs": [],
   "source": [
    "pima_diab= pd.read_csv(r\"C:\\Users\\acreddy\\Desktop\\datasets\\ML.DS\\diabetes.csv\")"
   ]
  },
  {
   "cell_type": "code",
   "execution_count": 3,
   "id": "4318f0d2",
   "metadata": {},
   "outputs": [
    {
     "data": {
      "text/html": [
       "<div>\n",
       "<style scoped>\n",
       "    .dataframe tbody tr th:only-of-type {\n",
       "        vertical-align: middle;\n",
       "    }\n",
       "\n",
       "    .dataframe tbody tr th {\n",
       "        vertical-align: top;\n",
       "    }\n",
       "\n",
       "    .dataframe thead th {\n",
       "        text-align: right;\n",
       "    }\n",
       "</style>\n",
       "<table border=\"1\" class=\"dataframe\">\n",
       "  <thead>\n",
       "    <tr style=\"text-align: right;\">\n",
       "      <th></th>\n",
       "      <th>Pregnancies</th>\n",
       "      <th>Glucose</th>\n",
       "      <th>BloodPressure</th>\n",
       "      <th>SkinThickness</th>\n",
       "      <th>Insulin</th>\n",
       "      <th>BMI</th>\n",
       "      <th>DiabetesPedigreeFunction</th>\n",
       "      <th>Age</th>\n",
       "      <th>Outcome</th>\n",
       "    </tr>\n",
       "  </thead>\n",
       "  <tbody>\n",
       "    <tr>\n",
       "      <th>0</th>\n",
       "      <td>6</td>\n",
       "      <td>148</td>\n",
       "      <td>72</td>\n",
       "      <td>35</td>\n",
       "      <td>0</td>\n",
       "      <td>33.6</td>\n",
       "      <td>0.627</td>\n",
       "      <td>50</td>\n",
       "      <td>1</td>\n",
       "    </tr>\n",
       "    <tr>\n",
       "      <th>1</th>\n",
       "      <td>1</td>\n",
       "      <td>85</td>\n",
       "      <td>66</td>\n",
       "      <td>29</td>\n",
       "      <td>0</td>\n",
       "      <td>26.6</td>\n",
       "      <td>0.351</td>\n",
       "      <td>31</td>\n",
       "      <td>0</td>\n",
       "    </tr>\n",
       "  </tbody>\n",
       "</table>\n",
       "</div>"
      ],
      "text/plain": [
       "   Pregnancies  Glucose  BloodPressure  SkinThickness  Insulin   BMI  \\\n",
       "0            6      148             72             35        0  33.6   \n",
       "1            1       85             66             29        0  26.6   \n",
       "\n",
       "   DiabetesPedigreeFunction  Age  Outcome  \n",
       "0                     0.627   50        1  \n",
       "1                     0.351   31        0  "
      ]
     },
     "execution_count": 3,
     "metadata": {},
     "output_type": "execute_result"
    }
   ],
   "source": [
    "pima_diab.head(2)"
   ]
  },
  {
   "cell_type": "code",
   "execution_count": 7,
   "id": "74b2451a",
   "metadata": {},
   "outputs": [
    {
     "data": {
      "text/plain": [
       "0    500\n",
       "1    268\n",
       "Name: Outcome, dtype: int64"
      ]
     },
     "execution_count": 7,
     "metadata": {},
     "output_type": "execute_result"
    }
   ],
   "source": [
    "pima_diab[\"Outcome\"].value_counts()\n",
    "# its  a perfect imbalanced dataset. And cross validation is imp to use in this cases."
   ]
  },
  {
   "cell_type": "code",
   "execution_count": 5,
   "id": "be6ea3f8",
   "metadata": {},
   "outputs": [],
   "source": [
    "# divide IVs and Target\n",
    "X= pima_diab.iloc[:,:-1]\n",
    "y= pima_diab.iloc[:,-1]"
   ]
  },
  {
   "cell_type": "code",
   "execution_count": null,
   "id": "c198ab67",
   "metadata": {},
   "outputs": [],
   "source": []
  },
  {
   "cell_type": "markdown",
   "id": "0c5a0913",
   "metadata": {},
   "source": [
    "# 1. K-Fold Cross Validation"
   ]
  },
  {
   "cell_type": "code",
   "execution_count": 26,
   "id": "f9b77145",
   "metadata": {},
   "outputs": [],
   "source": [
    "from sklearn.preprocessing import StandardScaler\n",
    "from sklearn.model_selection import KFold, cross_val_score\n",
    "from sklearn.linear_model import LogisticRegression\n",
    "from sklearn.metrics import accuracy_score"
   ]
  },
  {
   "cell_type": "code",
   "execution_count": 10,
   "id": "0b613d20",
   "metadata": {},
   "outputs": [],
   "source": [
    "# decide the k value\n",
    "k= 5"
   ]
  },
  {
   "cell_type": "code",
   "execution_count": 11,
   "id": "14aba314",
   "metadata": {},
   "outputs": [],
   "source": [
    "# k-fold object initialization\n",
    "kf= KFold(n_splits=5, shuffle=True, random_state=42)"
   ]
  },
  {
   "cell_type": "code",
   "execution_count": 16,
   "id": "188b4c09",
   "metadata": {},
   "outputs": [
    {
     "name": "stdout",
     "output_type": "stream",
     "text": [
      "Fold 1 - Accuracy 0.7532\n",
      "Fold 2 - Accuracy 0.7857\n",
      "Fold 3 - Accuracy 0.7532\n",
      "Fold 4 - Accuracy 0.8039\n",
      "Fold 5 - Accuracy 0.7451\n"
     ]
    }
   ],
   "source": [
    "# loop through each fold\n",
    "\n",
    "metrics_scores= []\n",
    "\n",
    "for fold_num, (train_idx, test_idx) in enumerate(kf.split(X,y), 1):\n",
    "    X_train, X_test= X.iloc[train_idx], X.iloc[test_idx]\n",
    "    y_train, y_test= y.iloc[train_idx], y.iloc[test_idx]\n",
    "    \n",
    "    # initialize scaling object\n",
    "    scaler= StandardScaler()\n",
    "    \n",
    "    # fit_transform on train and transform test data\n",
    "    X_train_scaled= scaler.fit_transform(X_train)\n",
    "    X_test_scaled= scaler.transform(X_test)\n",
    "    \n",
    "    # initlaize logistic reg\n",
    "    log_reg= LogisticRegression()\n",
    "    \n",
    "    # fit model on train data\n",
    "    log_reg.fit(X_train_scaled, y_train)\n",
    "    \n",
    "    # get predictions\n",
    "    y_pred= log_reg.predict(X_test_scaled)\n",
    "    \n",
    "    # get metrics\n",
    "    accuracy= accuracy_score(y_test, y_pred)\n",
    "    metrics_scores.append(accuracy)\n",
    "    \n",
    "    # Print fold-wise accuracy\n",
    "    print(f\"Fold {fold_num} - Accuracy {accuracy:.4f}\")  "
   ]
  },
  {
   "cell_type": "code",
   "execution_count": 21,
   "id": "68c57bb8",
   "metadata": {},
   "outputs": [
    {
     "name": "stdout",
     "output_type": "stream",
     "text": [
      "Mean Accuracy: 0.7682454800101859\n",
      "Standard Deviation of Accuracy: 0.02264363087553596\n"
     ]
    }
   ],
   "source": [
    "# Print the mean and standard deviation of R-squared scores\n",
    "print(\"Mean Accuracy:\", np.mean(metrics_scores))\n",
    "print(\"Standard Deviation of Accuracy:\", np.std(metrics_scores))"
   ]
  },
  {
   "cell_type": "code",
   "execution_count": null,
   "id": "89cae6cb",
   "metadata": {},
   "outputs": [],
   "source": []
  },
  {
   "cell_type": "markdown",
   "id": "42cff6f4",
   "metadata": {},
   "source": [
    "# 2. Stratified Cross Validation"
   ]
  },
  {
   "cell_type": "code",
   "execution_count": 19,
   "id": "43810c52",
   "metadata": {},
   "outputs": [],
   "source": [
    "from sklearn.model_selection import StratifiedKFold"
   ]
  },
  {
   "cell_type": "code",
   "execution_count": 20,
   "id": "f553530d",
   "metadata": {},
   "outputs": [],
   "source": [
    "# initialize stratified kfold cross validation\n",
    "skf= StratifiedKFold(n_splits=5, shuffle=True, random_state=42)"
   ]
  },
  {
   "cell_type": "code",
   "execution_count": 22,
   "id": "53f09e38",
   "metadata": {},
   "outputs": [
    {
     "name": "stdout",
     "output_type": "stream",
     "text": [
      "Fold 1 - Accuracy: 0.7792\n",
      "Fold 2 - Accuracy: 0.7922\n",
      "Fold 3 - Accuracy: 0.7857\n",
      "Fold 4 - Accuracy: 0.7647\n",
      "Fold 5 - Accuracy: 0.7516\n"
     ]
    }
   ],
   "source": [
    "# look through each fold\n",
    "\n",
    "scores= []\n",
    "\n",
    "for fold_num, (train_idx, test_idx) in enumerate(skf.split(X,y), 1):\n",
    "    X_train, X_test= X.iloc[train_idx], X.iloc[test_idx]\n",
    "    y_train, y_test= y.iloc[train_idx], y.iloc[test_idx]\n",
    "    \n",
    "    # initialize the scaler object\n",
    "    scaler= StandardScaler()\n",
    "    \n",
    "    # scale the data\n",
    "    X_train_scaled= scaler.fit_transform(X_train)\n",
    "    X_test_scaled= scaler.transform(X_test)\n",
    "    \n",
    "    # initialize the Linear Reg model\n",
    "    lr= LogisticRegression()\n",
    "    \n",
    "    # fit the model\n",
    "    lr.fit(X_train_scaled, y_train)\n",
    "    \n",
    "    # prediction\n",
    "    y_pred= lr.predict(X_test_scaled)\n",
    "    \n",
    "    # get the metrics\n",
    "    accuracy= accuracy_score(y_test, y_pred)\n",
    "    scores.append(accuracy)\n",
    "    \n",
    "    # Print fold-wise accuracy\n",
    "    print(f\"Fold {fold_num} - Accuracy: {accuracy:.4f}\")  "
   ]
  },
  {
   "cell_type": "code",
   "execution_count": 23,
   "id": "6a0c775f",
   "metadata": {},
   "outputs": [
    {
     "name": "stdout",
     "output_type": "stream",
     "text": [
      "Mean Accuracy: 0.7746965452847806\n",
      "Standard Deviation of Accuracy: 0.014698285678615699\n"
     ]
    }
   ],
   "source": [
    "# Print the mean and standard deviation of R-squared scores\n",
    "print(\"Mean Accuracy:\", np.mean(scores))\n",
    "print(\"Standard Deviation of Accuracy:\", np.std(scores))"
   ]
  },
  {
   "cell_type": "code",
   "execution_count": null,
   "id": "4470cd43",
   "metadata": {},
   "outputs": [],
   "source": []
  },
  {
   "cell_type": "markdown",
   "id": "cf589447",
   "metadata": {},
   "source": [
    "# another way of K-Fold or Stratified Cross Validation "
   ]
  },
  {
   "cell_type": "code",
   "execution_count": 24,
   "id": "69009f99",
   "metadata": {},
   "outputs": [],
   "source": [
    "# decide the K value in K-Folds i,e K-1 one will be train and remaing one fold will be test\n",
    "k=5"
   ]
  },
  {
   "cell_type": "code",
   "execution_count": 25,
   "id": "32b15eb0",
   "metadata": {},
   "outputs": [],
   "source": [
    "# K-Fold object initialization\n",
    "kf= KFold(n_splits=k, shuffle= True, random_state=42)"
   ]
  },
  {
   "cell_type": "code",
   "execution_count": 29,
   "id": "6cf04a20",
   "metadata": {},
   "outputs": [],
   "source": [
    "# Initialize an empty list to store scores\n",
    "\n",
    "scores= []\n",
    "\n",
    "for train_idx, test_idx in kf.split(X, y):\n",
    "    X_train, X_test = X.iloc[train_idx], X.iloc[test_idx]\n",
    "    y_train, y_test = y.iloc[train_idx], y.iloc[test_idx]\n",
    "\n",
    "    # Initialize the scaler object\n",
    "    scaler = StandardScaler()\n",
    "\n",
    "    # Scale the data\n",
    "    X_train_scaled = scaler.fit_transform(X_train)\n",
    "    X_test_scaled = scaler.transform(X_test)\n",
    "    \n",
    "    # initialize the model\n",
    "    log_reg= LogisticRegression()\n",
    "\n",
    "    # Use cross_val_score for logistic regression with Accuracy scoring\n",
    "    accuracy_scores_fold = cross_val_score(log_reg, X_train_scaled, y_train, cv=kf, scoring=\"accuracy\")\n",
    "\n",
    "    # Append the scores to the list\n",
    "    scores.extend(accuracy_scores_fold)\n"
   ]
  },
  {
   "cell_type": "code",
   "execution_count": 31,
   "id": "7b36f12a",
   "metadata": {},
   "outputs": [
    {
     "name": "stdout",
     "output_type": "stream",
     "text": [
      "K-Fold Cross Validation Scores (Accuracy): [0.7560975609756098, 0.7560975609756098, 0.7804878048780488, 0.7886178861788617, 0.7622950819672131, 0.7723577235772358, 0.7317073170731707, 0.7967479674796748, 0.8048780487804879, 0.7459016393442623, 0.7967479674796748, 0.7560975609756098, 0.7723577235772358, 0.7560975609756098, 0.7786885245901639, 0.7398373983739838, 0.7886178861788617, 0.7560975609756098, 0.7479674796747967, 0.7804878048780488, 0.7398373983739838, 0.7967479674796748, 0.8130081300813008, 0.7723577235772358, 0.7642276422764228]\n",
      "\n",
      " Mean Accuracy: 0.7701745968279354\n"
     ]
    }
   ],
   "source": [
    "print(\"K-Fold Cross Validation Scores (Accuracy):\", scores)\n",
    "print(\"\\n Mean Accuracy:\", np.mean(scores))"
   ]
  },
  {
   "cell_type": "code",
   "execution_count": 34,
   "id": "07579495",
   "metadata": {},
   "outputs": [
    {
     "name": "stdout",
     "output_type": "stream",
     "text": [
      "Std_dev of Accuracy: 0.021566933721355305\n"
     ]
    }
   ],
   "source": [
    "print(\"Std_dev of Accuracy:\", np.std(scores))"
   ]
  },
  {
   "cell_type": "code",
   "execution_count": null,
   "id": "033eb300",
   "metadata": {},
   "outputs": [],
   "source": []
  }
 ],
 "metadata": {
  "kernelspec": {
   "display_name": "Python 3 (ipykernel)",
   "language": "python",
   "name": "python3"
  },
  "language_info": {
   "codemirror_mode": {
    "name": "ipython",
    "version": 3
   },
   "file_extension": ".py",
   "mimetype": "text/x-python",
   "name": "python",
   "nbconvert_exporter": "python",
   "pygments_lexer": "ipython3",
   "version": "3.9.15"
  }
 },
 "nbformat": 4,
 "nbformat_minor": 5
}
