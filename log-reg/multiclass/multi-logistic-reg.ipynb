{
 "cells": [
  {
   "cell_type": "code",
   "execution_count": 1,
   "id": "8d31d216",
   "metadata": {},
   "outputs": [],
   "source": [
    "import pandas as pd\n",
    "import numpy as np"
   ]
  },
  {
   "cell_type": "code",
   "execution_count": 2,
   "id": "5038e50d",
   "metadata": {},
   "outputs": [],
   "source": [
    "# read iris dataset\n",
    "iris = pd.read_csv(r\"C:\\Users\\acreddy\\Desktop\\abc\\LogisticReg-PimaDiabetes\\data\\iris.csv\")"
   ]
  },
  {
   "cell_type": "code",
   "execution_count": 3,
   "id": "370f21f3",
   "metadata": {},
   "outputs": [
    {
     "data": {
      "text/html": [
       "<div>\n",
       "<style scoped>\n",
       "    .dataframe tbody tr th:only-of-type {\n",
       "        vertical-align: middle;\n",
       "    }\n",
       "\n",
       "    .dataframe tbody tr th {\n",
       "        vertical-align: top;\n",
       "    }\n",
       "\n",
       "    .dataframe thead th {\n",
       "        text-align: right;\n",
       "    }\n",
       "</style>\n",
       "<table border=\"1\" class=\"dataframe\">\n",
       "  <thead>\n",
       "    <tr style=\"text-align: right;\">\n",
       "      <th></th>\n",
       "      <th>sepal_length</th>\n",
       "      <th>sepal_width</th>\n",
       "      <th>petal_length</th>\n",
       "      <th>petal_width</th>\n",
       "      <th>species</th>\n",
       "    </tr>\n",
       "  </thead>\n",
       "  <tbody>\n",
       "    <tr>\n",
       "      <th>0</th>\n",
       "      <td>5.1</td>\n",
       "      <td>3.5</td>\n",
       "      <td>1.4</td>\n",
       "      <td>0.2</td>\n",
       "      <td>setosa</td>\n",
       "    </tr>\n",
       "    <tr>\n",
       "      <th>1</th>\n",
       "      <td>4.9</td>\n",
       "      <td>3.0</td>\n",
       "      <td>1.4</td>\n",
       "      <td>0.2</td>\n",
       "      <td>setosa</td>\n",
       "    </tr>\n",
       "  </tbody>\n",
       "</table>\n",
       "</div>"
      ],
      "text/plain": [
       "   sepal_length  sepal_width  petal_length  petal_width species\n",
       "0           5.1          3.5           1.4          0.2  setosa\n",
       "1           4.9          3.0           1.4          0.2  setosa"
      ]
     },
     "execution_count": 3,
     "metadata": {},
     "output_type": "execute_result"
    }
   ],
   "source": [
    "iris.head(2)"
   ]
  },
  {
   "cell_type": "code",
   "execution_count": 4,
   "id": "c4d8ec2b",
   "metadata": {},
   "outputs": [
    {
     "data": {
      "text/plain": [
       "(150, 5)"
      ]
     },
     "execution_count": 4,
     "metadata": {},
     "output_type": "execute_result"
    }
   ],
   "source": [
    "iris.shape"
   ]
  },
  {
   "cell_type": "code",
   "execution_count": 5,
   "id": "982f577e",
   "metadata": {},
   "outputs": [
    {
     "data": {
      "text/plain": [
       "setosa        50\n",
       "versicolor    50\n",
       "virginica     50\n",
       "Name: species, dtype: int64"
      ]
     },
     "execution_count": 5,
     "metadata": {},
     "output_type": "execute_result"
    }
   ],
   "source": [
    "# this dataset is very balanced across all three classes\n",
    "iris[\"species\"].value_counts()"
   ]
  },
  {
   "cell_type": "code",
   "execution_count": 6,
   "id": "70caaa69",
   "metadata": {},
   "outputs": [
    {
     "data": {
      "text/plain": [
       "sepal_length    0\n",
       "sepal_width     0\n",
       "petal_length    0\n",
       "petal_width     0\n",
       "species         0\n",
       "dtype: int64"
      ]
     },
     "execution_count": 6,
     "metadata": {},
     "output_type": "execute_result"
    }
   ],
   "source": [
    "# check the null values\n",
    "iris.isnull().sum()"
   ]
  },
  {
   "cell_type": "code",
   "execution_count": 7,
   "id": "7a65625b",
   "metadata": {},
   "outputs": [],
   "source": [
    "# get data insights and visualize distributions\n",
    "from ydata_profiling import ProfileReport\n",
    "\n",
    "profile = ProfileReport(iris)"
   ]
  },
  {
   "cell_type": "code",
   "execution_count": 8,
   "id": "09ca7923",
   "metadata": {},
   "outputs": [
    {
     "data": {
      "application/vnd.jupyter.widget-view+json": {
       "model_id": "2d4d92d174db4315bc4927fcdf70d4e2",
       "version_major": 2,
       "version_minor": 0
      },
      "text/plain": [
       "Summarize dataset:   0%|          | 0/5 [00:00<?, ?it/s]"
      ]
     },
     "metadata": {},
     "output_type": "display_data"
    },
    {
     "data": {
      "application/vnd.jupyter.widget-view+json": {
       "model_id": "80e78592e6664c66941b15a67b5ce6e4",
       "version_major": 2,
       "version_minor": 0
      },
      "text/plain": [
       "Generate report structure:   0%|          | 0/1 [00:00<?, ?it/s]"
      ]
     },
     "metadata": {},
     "output_type": "display_data"
    },
    {
     "data": {
      "application/vnd.jupyter.widget-view+json": {
       "model_id": "597240ac862e4b0da612491bf6dad125",
       "version_major": 2,
       "version_minor": 0
      },
      "text/plain": [
       "Render HTML:   0%|          | 0/1 [00:00<?, ?it/s]"
      ]
     },
     "metadata": {},
     "output_type": "display_data"
    },
    {
     "data": {
      "application/vnd.jupyter.widget-view+json": {
       "model_id": "017acb91448b4b3c96c0a7bebbdf6621",
       "version_major": 2,
       "version_minor": 0
      },
      "text/plain": [
       "Export report to file:   0%|          | 0/1 [00:00<?, ?it/s]"
      ]
     },
     "metadata": {},
     "output_type": "display_data"
    },
    {
     "data": {
      "application/vnd.jupyter.widget-view+json": {
       "model_id": "b371ce9a4fa14381a03857f61cec0964",
       "version_major": 2,
       "version_minor": 0
      },
      "text/plain": [
       "Render JSON:   0%|          | 0/1 [00:00<?, ?it/s]"
      ]
     },
     "metadata": {},
     "output_type": "display_data"
    },
    {
     "data": {
      "application/vnd.jupyter.widget-view+json": {
       "model_id": "99f2e4d7fcf743eca63993118051358d",
       "version_major": 2,
       "version_minor": 0
      },
      "text/plain": [
       "Export report to file:   0%|          | 0/1 [00:00<?, ?it/s]"
      ]
     },
     "metadata": {},
     "output_type": "display_data"
    }
   ],
   "source": [
    "# save the reports\n",
    "profile.to_file(\"iris.html\")\n",
    "profile.to_file(\"iris.json\")"
   ]
  },
  {
   "cell_type": "code",
   "execution_count": 61,
   "id": "5acf113c",
   "metadata": {},
   "outputs": [],
   "source": [
    "# split target and independent variables\n",
    "X= iris.drop(\"species\", axis=1)\n",
    "y= iris[\"species\"]"
   ]
  },
  {
   "cell_type": "code",
   "execution_count": 62,
   "id": "6f2f10b2",
   "metadata": {},
   "outputs": [
    {
     "data": {
      "text/html": [
       "<div>\n",
       "<style scoped>\n",
       "    .dataframe tbody tr th:only-of-type {\n",
       "        vertical-align: middle;\n",
       "    }\n",
       "\n",
       "    .dataframe tbody tr th {\n",
       "        vertical-align: top;\n",
       "    }\n",
       "\n",
       "    .dataframe thead th {\n",
       "        text-align: right;\n",
       "    }\n",
       "</style>\n",
       "<table border=\"1\" class=\"dataframe\">\n",
       "  <thead>\n",
       "    <tr style=\"text-align: right;\">\n",
       "      <th></th>\n",
       "      <th>sepal_length</th>\n",
       "      <th>sepal_width</th>\n",
       "      <th>petal_length</th>\n",
       "      <th>petal_width</th>\n",
       "    </tr>\n",
       "  </thead>\n",
       "  <tbody>\n",
       "    <tr>\n",
       "      <th>0</th>\n",
       "      <td>5.1</td>\n",
       "      <td>3.5</td>\n",
       "      <td>1.4</td>\n",
       "      <td>0.2</td>\n",
       "    </tr>\n",
       "    <tr>\n",
       "      <th>1</th>\n",
       "      <td>4.9</td>\n",
       "      <td>3.0</td>\n",
       "      <td>1.4</td>\n",
       "      <td>0.2</td>\n",
       "    </tr>\n",
       "  </tbody>\n",
       "</table>\n",
       "</div>"
      ],
      "text/plain": [
       "   sepal_length  sepal_width  petal_length  petal_width\n",
       "0           5.1          3.5           1.4          0.2\n",
       "1           4.9          3.0           1.4          0.2"
      ]
     },
     "execution_count": 62,
     "metadata": {},
     "output_type": "execute_result"
    }
   ],
   "source": [
    "X.head(2)"
   ]
  },
  {
   "cell_type": "code",
   "execution_count": 63,
   "id": "72349ad6",
   "metadata": {},
   "outputs": [
    {
     "data": {
      "text/plain": [
       "0    setosa\n",
       "1    setosa\n",
       "Name: species, dtype: object"
      ]
     },
     "execution_count": 63,
     "metadata": {},
     "output_type": "execute_result"
    }
   ],
   "source": [
    "y[:2]"
   ]
  },
  {
   "cell_type": "code",
   "execution_count": 64,
   "id": "b331c72e",
   "metadata": {},
   "outputs": [],
   "source": [
    "from sklearn.model_selection import train_test_split"
   ]
  },
  {
   "cell_type": "code",
   "execution_count": 65,
   "id": "5a3cc49a",
   "metadata": {},
   "outputs": [],
   "source": [
    "# split the data in to train and test datasets\n",
    "X_train, X_test, y_train, y_test= train_test_split(X,y, test_size=0.25, random_state=42)"
   ]
  },
  {
   "cell_type": "code",
   "execution_count": 66,
   "id": "e1dce565",
   "metadata": {},
   "outputs": [
    {
     "data": {
      "text/plain": [
       "((112, 4), (112,))"
      ]
     },
     "execution_count": 66,
     "metadata": {},
     "output_type": "execute_result"
    }
   ],
   "source": [
    "X_train.shape,   y_train.shape"
   ]
  },
  {
   "cell_type": "code",
   "execution_count": 67,
   "id": "c54da858",
   "metadata": {},
   "outputs": [
    {
     "data": {
      "text/plain": [
       "((38, 4), (38,))"
      ]
     },
     "execution_count": 67,
     "metadata": {},
     "output_type": "execute_result"
    }
   ],
   "source": [
    "X_test.shape, y_test.shape"
   ]
  },
  {
   "cell_type": "code",
   "execution_count": 68,
   "id": "b2cf27a4",
   "metadata": {},
   "outputs": [],
   "source": [
    "# lets encode the labels. Here i am using label encoding.\n",
    "from sklearn.preprocessing import LabelEncoder"
   ]
  },
  {
   "cell_type": "code",
   "execution_count": 69,
   "id": "0fbe7d44",
   "metadata": {},
   "outputs": [],
   "source": [
    "# intializing the label encoder\n",
    "encoder= LabelEncoder()"
   ]
  },
  {
   "cell_type": "code",
   "execution_count": 70,
   "id": "35be7568",
   "metadata": {},
   "outputs": [],
   "source": [
    "# fit and transform on train data\n",
    "y_train_encoded= encoder.fit_transform(y_train)"
   ]
  },
  {
   "cell_type": "code",
   "execution_count": 71,
   "id": "52d48c18",
   "metadata": {},
   "outputs": [],
   "source": [
    "# transform on test data to avoid data leakage\n",
    "y_test_encoded= encoder.transform(y_test)"
   ]
  },
  {
   "cell_type": "code",
   "execution_count": 72,
   "id": "a029f02a",
   "metadata": {},
   "outputs": [],
   "source": [
    "# to know which class assigned to which label\n",
    "label_mapping = dict(zip(encoder.classes_, encoder.transform(encoder.classes_)))"
   ]
  },
  {
   "cell_type": "code",
   "execution_count": 73,
   "id": "6ff3e4a4",
   "metadata": {},
   "outputs": [
    {
     "data": {
      "text/plain": [
       "{'setosa': 0, 'versicolor': 1, 'virginica': 2}"
      ]
     },
     "execution_count": 73,
     "metadata": {},
     "output_type": "execute_result"
    }
   ],
   "source": [
    "label_mapping"
   ]
  },
  {
   "cell_type": "markdown",
   "id": "ef51c186",
   "metadata": {},
   "source": [
    "# LogisticRegression (with sklearn  OneVsRestClassifier)"
   ]
  },
  {
   "cell_type": "code",
   "execution_count": 74,
   "id": "f60b881c",
   "metadata": {},
   "outputs": [],
   "source": [
    "from sklearn.linear_model import LogisticRegression\n",
    "from sklearn.multiclass import OneVsRestClassifier\n",
    "from sklearn.metrics import auc, roc_curve, roc_auc_score, accuracy_score, classification_report, confusion_matrix"
   ]
  },
  {
   "cell_type": "code",
   "execution_count": 21,
   "id": "c0a7001a",
   "metadata": {},
   "outputs": [],
   "source": [
    "# here i am using sklearn OVR technique. We can use \"mutlinomial\" as well without sklean OneVsRestClassifier. We will see it below:\n",
    "log_reg = OneVsRestClassifier(LogisticRegression())"
   ]
  },
  {
   "cell_type": "code",
   "execution_count": 22,
   "id": "6c95badf",
   "metadata": {},
   "outputs": [
    {
     "data": {
      "text/plain": [
       "OneVsRestClassifier(estimator=LogisticRegression())"
      ]
     },
     "execution_count": 22,
     "metadata": {},
     "output_type": "execute_result"
    }
   ],
   "source": [
    "# fit the model on train data\n",
    "log_reg.fit(X_train, y_train_encoded)"
   ]
  },
  {
   "cell_type": "code",
   "execution_count": 23,
   "id": "aae75384",
   "metadata": {},
   "outputs": [],
   "source": [
    "# evaluate the model on test data\n",
    "y_pred= log_reg.predict(X_test)"
   ]
  },
  {
   "cell_type": "code",
   "execution_count": 24,
   "id": "b827664d",
   "metadata": {},
   "outputs": [],
   "source": [
    "# get the probability values of y_pred\n",
    "y_pred_proba= log_reg.predict_proba(X_test)"
   ]
  },
  {
   "cell_type": "code",
   "execution_count": 25,
   "id": "779e1f4a",
   "metadata": {},
   "outputs": [
    {
     "data": {
      "text/plain": [
       "array([[6.29402017e-03, 7.22781092e-01, 2.70924888e-01],\n",
       "       [9.33376262e-01, 6.66158540e-02, 7.88355220e-06],\n",
       "       [3.85506680e-06, 3.82063840e-01, 6.17932305e-01],\n",
       "       [1.03209230e-02, 6.45275616e-01, 3.44403461e-01],\n",
       "       [3.11483782e-03, 6.30080967e-01, 3.66804196e-01]])"
      ]
     },
     "execution_count": 25,
     "metadata": {},
     "output_type": "execute_result"
    }
   ],
   "source": [
    "# just printing the 5 values \n",
    "y_pred_proba[:5]"
   ]
  },
  {
   "cell_type": "code",
   "execution_count": 26,
   "id": "97441bed",
   "metadata": {},
   "outputs": [
    {
     "data": {
      "text/plain": [
       "array([6.29402017e-03, 9.33376262e-01, 3.85506680e-06, 1.03209230e-02,\n",
       "       3.11483782e-03, 8.84100429e-01, 1.44296143e-01, 6.74545451e-04,\n",
       "       3.19354937e-03, 4.93619796e-02, 1.21536052e-03, 7.54489280e-01,\n",
       "       8.97866069e-01, 7.75033349e-01, 9.35734066e-01, 9.12227731e-03,\n",
       "       1.34400822e-04, 3.98911842e-02, 1.14298154e-02, 1.74211806e-04,\n",
       "       8.01616495e-01, 2.34703146e-03, 8.73144530e-01, 1.88788948e-04,\n",
       "       5.82162876e-05, 4.90840144e-04, 9.29750728e-05, 1.11849309e-04,\n",
       "       7.78121759e-01, 7.76789625e-01, 9.16788807e-01, 9.83305636e-01,\n",
       "       1.91725694e-02, 8.51651178e-01, 8.18706551e-01, 7.23224446e-04,\n",
       "       1.65493101e-02, 8.83846030e-01])"
      ]
     },
     "execution_count": 26,
     "metadata": {},
     "output_type": "execute_result"
    }
   ],
   "source": [
    "# class 0 probability values\n",
    "y_pred_proba[:,0]"
   ]
  },
  {
   "cell_type": "code",
   "execution_count": 27,
   "id": "3b7da3d3",
   "metadata": {},
   "outputs": [
    {
     "data": {
      "text/plain": [
       "array([0.72278109, 0.06661585, 0.38206384, 0.64527562, 0.63008097,\n",
       "       0.11589237, 0.81407163, 0.19071742, 0.73431857, 0.89199392,\n",
       "       0.22845372, 0.24550688, 0.10213139, 0.22496188, 0.06426036,\n",
       "       0.41972822, 0.25790108, 0.91396332, 0.7364629 , 0.30204913,\n",
       "       0.19837534, 0.36276554, 0.12684463, 0.31628767, 0.10485605,\n",
       "       0.21829978, 0.41722916, 0.19335413, 0.22187227, 0.22320231,\n",
       "       0.0832097 , 0.01669013, 0.71992608, 0.1483413 , 0.18128943,\n",
       "       0.4382087 , 0.58894362, 0.11614911])"
      ]
     },
     "execution_count": 27,
     "metadata": {},
     "output_type": "execute_result"
    }
   ],
   "source": [
    "# class 1 probability values\n",
    "y_pred_proba[:,1]"
   ]
  },
  {
   "cell_type": "code",
   "execution_count": 28,
   "id": "119e804a",
   "metadata": {},
   "outputs": [
    {
     "data": {
      "text/plain": [
       "array([2.70924888e-01, 7.88355220e-06, 6.17932305e-01, 3.44403461e-01,\n",
       "       3.66804196e-01, 7.20267378e-06, 4.16322248e-02, 8.08608032e-01,\n",
       "       2.62487881e-01, 5.86440962e-02, 7.70330922e-01, 3.84035805e-06,\n",
       "       2.54144494e-06, 4.77377912e-06, 5.57864238e-06, 5.71149507e-01,\n",
       "       7.41964518e-01, 4.61454956e-02, 2.52107283e-01, 6.97776658e-01,\n",
       "       8.16212660e-06, 6.34887428e-01, 1.08436645e-05, 6.83523543e-01,\n",
       "       8.95085734e-01, 7.81209375e-01, 5.82677864e-01, 8.06534019e-01,\n",
       "       5.96828867e-06, 8.06141529e-06, 1.49187585e-06, 4.23441432e-06,\n",
       "       2.60901347e-01, 7.51968086e-06, 4.02194638e-06, 5.61068071e-01,\n",
       "       3.94507074e-01, 4.85639677e-06])"
      ]
     },
     "execution_count": 28,
     "metadata": {},
     "output_type": "execute_result"
    }
   ],
   "source": [
    "# class 2 probability values\n",
    "y_pred_proba[:,2]"
   ]
  },
  {
   "cell_type": "code",
   "execution_count": 29,
   "id": "f68c92dd",
   "metadata": {},
   "outputs": [],
   "source": [
    "# lets see the metrics\n",
    "accuracy = accuracy_score(y_test_encoded, y_pred)\n",
    "conf_matrix = confusion_matrix(y_test_encoded, y_pred)\n",
    "classification_report = classification_report(y_test_encoded, y_pred)"
   ]
  },
  {
   "cell_type": "code",
   "execution_count": 30,
   "id": "4d70abf8",
   "metadata": {},
   "outputs": [
    {
     "data": {
      "text/plain": [
       "0.9736842105263158"
      ]
     },
     "execution_count": 30,
     "metadata": {},
     "output_type": "execute_result"
    }
   ],
   "source": [
    "accuracy"
   ]
  },
  {
   "cell_type": "code",
   "execution_count": 31,
   "id": "174c5370",
   "metadata": {},
   "outputs": [
    {
     "data": {
      "text/plain": [
       "array([[15,  0,  0],\n",
       "       [ 0, 10,  1],\n",
       "       [ 0,  0, 12]], dtype=int64)"
      ]
     },
     "execution_count": 31,
     "metadata": {},
     "output_type": "execute_result"
    }
   ],
   "source": [
    "conf_matrix"
   ]
  },
  {
   "cell_type": "code",
   "execution_count": 32,
   "id": "e94fec91",
   "metadata": {},
   "outputs": [
    {
     "name": "stdout",
     "output_type": "stream",
     "text": [
      "              precision    recall  f1-score   support\n",
      "\n",
      "           0       1.00      1.00      1.00        15\n",
      "           1       1.00      0.91      0.95        11\n",
      "           2       0.92      1.00      0.96        12\n",
      "\n",
      "    accuracy                           0.97        38\n",
      "   macro avg       0.97      0.97      0.97        38\n",
      "weighted avg       0.98      0.97      0.97        38\n",
      "\n"
     ]
    }
   ],
   "source": [
    "print(classification_report)"
   ]
  },
  {
   "cell_type": "code",
   "execution_count": 33,
   "id": "d68cc3fb",
   "metadata": {},
   "outputs": [
    {
     "data": {
      "text/plain": [
       "3"
      ]
     },
     "execution_count": 33,
     "metadata": {},
     "output_type": "execute_result"
    }
   ],
   "source": [
    "# check how many classes we have in target(y)\n",
    "n_classes = len(np.unique(y))\n",
    "n_classes"
   ]
  },
  {
   "cell_type": "code",
   "execution_count": 34,
   "id": "247a41db",
   "metadata": {},
   "outputs": [],
   "source": [
    "# lets caluclate fpr, tpr, no need threshold and we can use roc_auc_score instead of auc also.\n",
    "# fpr = dict()\n",
    "# tpr = dict()\n",
    "# auc = dict()\n",
    "# for i in range(n_classes):\n",
    "#     fpr[i], tpr[i], _ = roc_curve(y_test_encoded == i, y_pred_proba[:, i])\n",
    "#     auc[i] = roc_auc_score(y_test_encoded == i, y_pred_proba[:, i])"
   ]
  },
  {
   "cell_type": "code",
   "execution_count": 40,
   "id": "53fff42d",
   "metadata": {},
   "outputs": [],
   "source": [
    "# lets calculate fpr, tpr( note thresholds is not required for ROC and AUC so i left with empty \"_\") i used here \"auc\"\n",
    "fpr = dict()\n",
    "tpr = dict()\n",
    "roc_auc = dict()\n",
    "for i in range(n_classes):\n",
    "    fpr[i], tpr[i], _ = roc_curve(y_test_encoded == i, y_pred_proba[:, i])\n",
    "    roc_auc[i] = auc(fpr[i], tpr[i])"
   ]
  },
  {
   "cell_type": "code",
   "execution_count": 37,
   "id": "5d48f81d",
   "metadata": {},
   "outputs": [
    {
     "data": {
      "image/png": "[encoded data removed]",
      "text/plain": [
       "<Figure size 1000x800 with 1 Axes>"
      ]
     },
     "metadata": {},
     "output_type": "display_data"
    }
   ],
   "source": [
    "import matplotlib.pyplot as plt\n",
    "\n",
    "plt.figure(figsize=(10, 8))\n",
    "for i in range(n_classes):\n",
    "    plt.plot(fpr[i], tpr[i], label=f\"Class {i} (AUC = {roc_auc[i]:.3f})\")\n",
    "\n",
    "plt.plot([0, 1], [0, 1], color='navy', lw=2, linestyle='--', label='Diagonal (random guess)')\n",
    "plt.xlabel('False Positive Rate(1- Specificity)')\n",
    "plt.ylabel('True Positive Rate (Sensitivity or Recall)')\n",
    "plt.title('ROC curves for OneVsRestClassifier')\n",
    "plt.legend()\n",
    "plt.show()\n"
   ]
  },
  {
   "cell_type": "code",
   "execution_count": 41,
   "id": "6d63aa38",
   "metadata": {},
   "outputs": [
    {
     "name": "stdout",
     "output_type": "stream",
     "text": [
      "Class 0 coefficients: [[-0.41383227  0.86729914 -2.18545449 -0.90512945]]\n",
      "Class 0 intercepts: [6.10653373]\n",
      "Class 1 coefficients: [[-0.15340831 -2.09474422  0.54591448 -0.9762508 ]]\n",
      "Class 1 intercepts: [5.58403512]\n",
      "Class 2 coefficients: [[-0.36646368 -0.50647123  2.7284644   2.02322682]]\n",
      "Class 2 intercepts: [-12.95967444]\n"
     ]
    }
   ],
   "source": [
    "# Access individual class models and their coefficients\n",
    "individual_models = log_reg.estimators_\n",
    "for i, model in enumerate(individual_models):\n",
    "    print(f\"Class {i} coefficients:\", model.coef_)\n",
    "    print(f\"Class {i} intercepts:\", model.intercept_)"
   ]
  },
  {
   "cell_type": "code",
   "execution_count": null,
   "id": "66bddd7e",
   "metadata": {},
   "outputs": [],
   "source": []
  },
  {
   "cell_type": "markdown",
   "id": "039abc2d",
   "metadata": {},
   "source": [
    "# Precision-Recall Curve"
   ]
  },
  {
   "cell_type": "code",
   "execution_count": 42,
   "id": "19a92f56",
   "metadata": {},
   "outputs": [],
   "source": [
    "from sklearn.metrics import precision_recall_curve, average_precision_score"
   ]
  },
  {
   "cell_type": "code",
   "execution_count": 43,
   "id": "91e4f4fd",
   "metadata": {},
   "outputs": [],
   "source": [
    "n_classes = len(np.unique(y))"
   ]
  },
  {
   "cell_type": "code",
   "execution_count": 44,
   "id": "b24f47c8",
   "metadata": {},
   "outputs": [],
   "source": [
    "precision = dict()\n",
    "recall = dict()\n",
    "avg_precision = dict() # this is nothing but Auc under precision-recall curve\n",
    "\n",
    "for i in range(n_classes):\n",
    "    precision[i], recall[i], _ = precision_recall_curve(y_test_encoded==i, y_pred_proba[:,i])\n",
    "    avg_precision[i] = average_precision_score(y_test_encoded==i, y_pred_proba[:,i])"
   ]
  },
  {
   "cell_type": "code",
   "execution_count": 45,
   "id": "d23a06c6",
   "metadata": {},
   "outputs": [
    {
     "data": {
      "image/png": "[encoded data removed]",
      "text/plain": [
       "<Figure size 1000x800 with 1 Axes>"
      ]
     },
     "metadata": {},
     "output_type": "display_data"
    }
   ],
   "source": [
    "plt.figure(figsize=(10, 8))\n",
    "colors= [\"b\", \"g\", \"r\"]\n",
    "for i in range(n_classes):\n",
    "    # generally we go with plt.step than plt.plot in precision-recall plot as they change very frquent \n",
    "    plt.step(recall[i], precision[i], where=\"post\", color= colors[i], label=f\"Class {i} (PR-AUC = {avg_precision[i]:.2f})\")\n",
    "\n",
    "plt.xlabel('Recall')\n",
    "plt.ylabel('Precision')\n",
    "plt.title('Precision-Recall Curve for Multiclass Classification')\n",
    "plt.legend()\n",
    "plt.show()"
   ]
  },
  {
   "cell_type": "markdown",
   "id": "79f74502",
   "metadata": {},
   "source": [
    "# LogisticRegression (without sklearn  OneVsRestClassifier)"
   ]
  },
  {
   "cell_type": "code",
   "execution_count": 75,
   "id": "27f2882c",
   "metadata": {},
   "outputs": [],
   "source": [
    "model= LogisticRegression(multi_class= \"multinomial\", max_iter=500) \n",
    "# you can chose multi_class= \"auto\", it applies ovr (OneVsRest) approach by default for multiclass or binary also.\n",
    "# this multi_class= \"multinomial\" explicitly we are telling the model its multi-class classification.\n",
    "# we can use multi_class= \"ovr\" it does the same thing that we have done in the above sklearn-OneVsRestClassifier. its optional we can use any approach"
   ]
  },
  {
   "cell_type": "code",
   "execution_count": null,
   "id": "95bbee31",
   "metadata": {},
   "outputs": [],
   "source": []
  },
  {
   "cell_type": "code",
   "execution_count": 76,
   "id": "979e5646",
   "metadata": {},
   "outputs": [
    {
     "data": {
      "text/plain": [
       "LogisticRegression(max_iter=500, multi_class='multinomial')"
      ]
     },
     "execution_count": 76,
     "metadata": {},
     "output_type": "execute_result"
    }
   ],
   "source": [
    "model.fit(X_train, y_train_encoded)"
   ]
  },
  {
   "cell_type": "code",
   "execution_count": 77,
   "id": "1388e219",
   "metadata": {},
   "outputs": [],
   "source": [
    "y_pred_multinom = model.predict(X_test)"
   ]
  },
  {
   "cell_type": "code",
   "execution_count": 78,
   "id": "5f006695",
   "metadata": {},
   "outputs": [
    {
     "data": {
      "text/plain": [
       "array([1, 0, 2, 1, 1, 0, 1, 2, 1, 1, 2, 0, 0, 0, 0, 1, 2, 1, 1, 2, 0, 2,\n",
       "       0, 2, 2, 2, 2, 2, 0, 0, 0, 0, 1, 0, 0, 2, 1, 0])"
      ]
     },
     "execution_count": 78,
     "metadata": {},
     "output_type": "execute_result"
    }
   ],
   "source": [
    "y_pred_multinom"
   ]
  },
  {
   "cell_type": "code",
   "execution_count": 79,
   "id": "3b5b78f8",
   "metadata": {},
   "outputs": [],
   "source": [
    "y_pred_multinom_proba= model.predict_proba(X_test)"
   ]
  },
  {
   "cell_type": "code",
   "execution_count": 80,
   "id": "a1f5831b",
   "metadata": {},
   "outputs": [
    {
     "data": {
      "text/plain": [
       "array([[3.98024376e-03, 8.22154307e-01, 1.73865449e-01],\n",
       "       [9.44154242e-01, 5.58454481e-02, 3.09782339e-07],\n",
       "       [1.20557728e-08, 1.82711496e-03, 9.98172873e-01],\n",
       "       [6.67491350e-03, 7.87151670e-01, 2.06173416e-01],\n",
       "       [1.54025037e-03, 7.69771818e-01, 2.28687931e-01]])"
      ]
     },
     "execution_count": 80,
     "metadata": {},
     "output_type": "execute_result"
    }
   ],
   "source": [
    "y_pred_multinom_proba[:5]"
   ]
  },
  {
   "cell_type": "code",
   "execution_count": 81,
   "id": "28c631f2",
   "metadata": {},
   "outputs": [
    {
     "data": {
      "text/plain": [
       "array([3.98024376e-03, 9.44154242e-01, 1.20557728e-08, 6.67491350e-03,\n",
       "       1.54025037e-03, 9.52631343e-01, 7.75085563e-02, 1.77723473e-04,\n",
       "       2.32895054e-03, 2.86983330e-02, 4.69565018e-04, 9.65419265e-01,\n",
       "       9.70924280e-01, 9.58971756e-01, 9.77780705e-01, 4.72385454e-03,\n",
       "       8.50821680e-06, 2.75652801e-02, 8.51266587e-03, 1.68519712e-05,\n",
       "       9.61421335e-01, 1.39178681e-03, 9.58715883e-01, 2.18383274e-05,\n",
       "       1.80392749e-06, 1.04802456e-04, 1.05842288e-05, 5.01250145e-06,\n",
       "       9.63720112e-01, 9.52752033e-01, 9.93733021e-01, 9.81357652e-01,\n",
       "       6.68495111e-03, 9.66837417e-01, 9.83973759e-01, 3.45550906e-04,\n",
       "       7.18360008e-03, 9.66158658e-01])"
      ]
     },
     "execution_count": 81,
     "metadata": {},
     "output_type": "execute_result"
    }
   ],
   "source": [
    "y_pred_multinom_proba[:,0]"
   ]
  },
  {
   "cell_type": "code",
   "execution_count": 82,
   "id": "933d537c",
   "metadata": {},
   "outputs": [
    {
     "data": {
      "text/plain": [
       "array([1.73865449e-01, 3.09782339e-07, 9.98172873e-01, 2.06173416e-01,\n",
       "       2.28687931e-01, 2.61899756e-07, 1.54692765e-02, 8.41343364e-01,\n",
       "       2.22210615e-01, 2.71343545e-02, 7.58674629e-01, 1.13101775e-07,\n",
       "       5.17373592e-08, 1.61448118e-07, 1.02268925e-07, 2.98832179e-01,\n",
       "       9.74185162e-01, 2.55558762e-02, 1.64211668e-01, 9.60825030e-01,\n",
       "       2.80201615e-07, 6.00024061e-01, 3.83874698e-07, 9.50479604e-01,\n",
       "       9.75925324e-01, 8.90576658e-01, 9.35808920e-01, 9.80328336e-01,\n",
       "       1.93751344e-07, 3.32798021e-07, 8.17740463e-09, 6.34442948e-08,\n",
       "       8.66419255e-02, 2.13322448e-07, 6.10381728e-08, 7.22812088e-01,\n",
       "       1.56734159e-01, 1.25584577e-07])"
      ]
     },
     "execution_count": 82,
     "metadata": {},
     "output_type": "execute_result"
    }
   ],
   "source": [
    "y_pred_multinom_proba[:,2]"
   ]
  },
  {
   "cell_type": "code",
   "execution_count": 83,
   "id": "50f5877b",
   "metadata": {},
   "outputs": [],
   "source": [
    "accuracy_multinom = accuracy_score(y_test_encoded, y_pred_multinom)\n",
    "conf_matrix_multinom = confusion_matrix(y_test_encoded, y_pred_multinom)\n",
    "classification_report_multinom = classification_report(y_test_encoded, y_pred_multinom)"
   ]
  },
  {
   "cell_type": "code",
   "execution_count": 84,
   "id": "b191558e",
   "metadata": {},
   "outputs": [
    {
     "data": {
      "text/plain": [
       "1.0"
      ]
     },
     "execution_count": 84,
     "metadata": {},
     "output_type": "execute_result"
    }
   ],
   "source": [
    "accuracy_multinom"
   ]
  },
  {
   "cell_type": "code",
   "execution_count": 85,
   "id": "339b077e",
   "metadata": {},
   "outputs": [
    {
     "data": {
      "text/plain": [
       "array([[15,  0,  0],\n",
       "       [ 0, 11,  0],\n",
       "       [ 0,  0, 12]], dtype=int64)"
      ]
     },
     "execution_count": 85,
     "metadata": {},
     "output_type": "execute_result"
    }
   ],
   "source": [
    "conf_matrix_multinom"
   ]
  },
  {
   "cell_type": "code",
   "execution_count": 86,
   "id": "39eb755d",
   "metadata": {},
   "outputs": [
    {
     "name": "stdout",
     "output_type": "stream",
     "text": [
      "              precision    recall  f1-score   support\n",
      "\n",
      "           0       1.00      1.00      1.00        15\n",
      "           1       1.00      1.00      1.00        11\n",
      "           2       1.00      1.00      1.00        12\n",
      "\n",
      "    accuracy                           1.00        38\n",
      "   macro avg       1.00      1.00      1.00        38\n",
      "weighted avg       1.00      1.00      1.00        38\n",
      "\n"
     ]
    }
   ],
   "source": [
    "print(classification_report_multinom)"
   ]
  },
  {
   "cell_type": "code",
   "execution_count": 87,
   "id": "7f72aa99",
   "metadata": {},
   "outputs": [],
   "source": [
    "# since multinomial log-regression dont have attibute \"model.estimators_\" only OVR log-reg has it. so:\n",
    "coefficients= model.coef_\n",
    "intercepts= model.intercept_"
   ]
  },
  {
   "cell_type": "code",
   "execution_count": 88,
   "id": "2078832e",
   "metadata": {},
   "outputs": [
    {
     "name": "stdout",
     "output_type": "stream",
     "text": [
      "Coefficients for Class 1: [-0.38943311  0.92007673 -2.33151291 -0.98295901]\n",
      "Intercept for Class 1: 8.901147377566717\n",
      "Coefficients for Class 2: [ 0.49937713 -0.3087982  -0.21480653 -0.73432747]\n",
      "Intercept for Class 2: 2.003961908018455\n",
      "Coefficients for Class 3: [-0.10994402 -0.61127853  2.54631943  1.71728647]\n",
      "Intercept for Class 3: -10.905109285585047\n"
     ]
    }
   ],
   "source": [
    "# (Optional) Access individual class models and their coefficients\n",
    "for i, (coef, intercept) in enumerate(zip(coefficients, intercepts)):\n",
    "    print(f\"Coefficients for Class {i + 1}: {coef}\")\n",
    "    print(f\"Intercept for Class {i + 1}: {intercept}\")"
   ]
  },
  {
   "cell_type": "markdown",
   "id": "c96556a1",
   "metadata": {},
   "source": [
    "# lets plot ROC curve"
   ]
  },
  {
   "cell_type": "code",
   "execution_count": 89,
   "id": "0d92a3d0",
   "metadata": {},
   "outputs": [],
   "source": [
    "# here i used roc_auc_score which takes y_test & y_proba rather auc which takes FPR & TPR \n",
    "multinom_fpr = dict()\n",
    "multinom_tpr = dict()\n",
    "multinom_auc = dict()\n",
    "for i in range(n_classes):\n",
    "    multinom_fpr[i], multinom_tpr[i], _ = roc_curve(y_test_encoded == i, y_pred_multinom_proba[:, i])\n",
    "    multinom_auc[i] = roc_auc_score(y_test_encoded == i, y_pred_multinom_proba[:, i])"
   ]
  },
  {
   "cell_type": "code",
   "execution_count": 90,
   "id": "bb069362",
   "metadata": {},
   "outputs": [
    {
     "data": {
      "image/png": "[encoded data removed]",
      "text/plain": [
       "<Figure size 1000x800 with 1 Axes>"
      ]
     },
     "metadata": {},
     "output_type": "display_data"
    }
   ],
   "source": [
    "import matplotlib.pyplot as plt\n",
    "\n",
    "plt.figure(figsize=(10, 8))\n",
    "for i in range(n_classes):\n",
    "    plt.plot(multinom_fpr[i], multinom_tpr[i], label=f\"Class {i} (AUC = {multinom_auc[i]:.3f})\")\n",
    "\n",
    "plt.plot([0, 1], [0, 1], color='navy', lw=2, linestyle='--', label='Diagonal (random guess)')\n",
    "plt.xlabel('False Positive Rate(1- Specificity)')\n",
    "plt.ylabel('True Positive Rate (Sensitivity or Recall)')\n",
    "plt.title('ROC curves for OneVsRestClassifier')\n",
    "plt.legend()\n",
    "plt.show()\n"
   ]
  },
  {
   "cell_type": "code",
   "execution_count": null,
   "id": "fc18a659",
   "metadata": {},
   "outputs": [],
   "source": []
  }
 ],
 "metadata": {
  "kernelspec": {
   "display_name": "Python 3 (ipykernel)",
   "language": "python",
   "name": "python3"
  },
  "language_info": {
   "codemirror_mode": {
    "name": "ipython",
    "version": 3
   },
   "file_extension": ".py",
   "mimetype": "text/x-python",
   "name": "python",
   "nbconvert_exporter": "python",
   "pygments_lexer": "ipython3",
   "version": "3.9.15"
  }
 },
 "nbformat": 4,
 "nbformat_minor": 5
}
