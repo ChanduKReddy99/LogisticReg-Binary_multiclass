{
 "cells": [
  {
   "cell_type": "code",
   "execution_count": 1,
   "id": "f0a658d6",
   "metadata": {},
   "outputs": [],
   "source": [
    "import pandas as pd"
   ]
  },
  {
   "cell_type": "code",
   "execution_count": 2,
   "id": "56263b59",
   "metadata": {},
   "outputs": [],
   "source": [
    "# read iris dataset\n",
    "iris = pd.read_csv( r\"C:\\Users\\acreddy\\Desktop\\abc\\LogisticReg-Binary_multiclass\\data\\iris.csv\")"
   ]
  },
  {
   "cell_type": "code",
   "execution_count": 3,
   "id": "5466c5cf",
   "metadata": {},
   "outputs": [
    {
     "data": {
      "text/html": [
       "<div>\n",
       "<style scoped>\n",
       "    .dataframe tbody tr th:only-of-type {\n",
       "        vertical-align: middle;\n",
       "    }\n",
       "\n",
       "    .dataframe tbody tr th {\n",
       "        vertical-align: top;\n",
       "    }\n",
       "\n",
       "    .dataframe thead th {\n",
       "        text-align: right;\n",
       "    }\n",
       "</style>\n",
       "<table border=\"1\" class=\"dataframe\">\n",
       "  <thead>\n",
       "    <tr style=\"text-align: right;\">\n",
       "      <th></th>\n",
       "      <th>sepal_length</th>\n",
       "      <th>sepal_width</th>\n",
       "      <th>petal_length</th>\n",
       "      <th>petal_width</th>\n",
       "      <th>species</th>\n",
       "    </tr>\n",
       "  </thead>\n",
       "  <tbody>\n",
       "    <tr>\n",
       "      <th>0</th>\n",
       "      <td>5.1</td>\n",
       "      <td>3.5</td>\n",
       "      <td>1.4</td>\n",
       "      <td>0.2</td>\n",
       "      <td>setosa</td>\n",
       "    </tr>\n",
       "    <tr>\n",
       "      <th>1</th>\n",
       "      <td>4.9</td>\n",
       "      <td>3.0</td>\n",
       "      <td>1.4</td>\n",
       "      <td>0.2</td>\n",
       "      <td>setosa</td>\n",
       "    </tr>\n",
       "  </tbody>\n",
       "</table>\n",
       "</div>"
      ],
      "text/plain": [
       "   sepal_length  sepal_width  petal_length  petal_width species\n",
       "0           5.1          3.5           1.4          0.2  setosa\n",
       "1           4.9          3.0           1.4          0.2  setosa"
      ]
     },
     "execution_count": 3,
     "metadata": {},
     "output_type": "execute_result"
    }
   ],
   "source": [
    "iris.head(2)"
   ]
  },
  {
   "cell_type": "code",
   "execution_count": 6,
   "id": "a307d8fc",
   "metadata": {},
   "outputs": [],
   "source": [
    "# split target and independent variables\n",
    "X= iris.iloc[:, :-1]\n",
    "y= iris.iloc[:, -1]"
   ]
  },
  {
   "cell_type": "code",
   "execution_count": 7,
   "id": "aaf7ddef",
   "metadata": {},
   "outputs": [],
   "source": [
    "from sklearn.model_selection import train_test_split"
   ]
  },
  {
   "cell_type": "code",
   "execution_count": 8,
   "id": "08b95c90",
   "metadata": {},
   "outputs": [],
   "source": [
    "# split the data in to train and test datasets\n",
    "X_train, X_test, y_train, y_test= train_test_split(X,y, test_size=0.25, random_state=42)"
   ]
  },
  {
   "cell_type": "code",
   "execution_count": 9,
   "id": "60ab46a9",
   "metadata": {},
   "outputs": [
    {
     "data": {
      "text/plain": [
       "((112, 4), (112,))"
      ]
     },
     "execution_count": 9,
     "metadata": {},
     "output_type": "execute_result"
    }
   ],
   "source": [
    "X_train.shape,   y_train.shape"
   ]
  },
  {
   "cell_type": "code",
   "execution_count": 10,
   "id": "c524c0ed",
   "metadata": {},
   "outputs": [
    {
     "data": {
      "text/plain": [
       "((38, 4), (38,))"
      ]
     },
     "execution_count": 10,
     "metadata": {},
     "output_type": "execute_result"
    }
   ],
   "source": [
    "X_test.shape, y_test.shape"
   ]
  },
  {
   "cell_type": "code",
   "execution_count": 57,
   "id": "d0f53e26",
   "metadata": {},
   "outputs": [],
   "source": [
    "from sklearn.preprocessing import LabelEncoder"
   ]
  },
  {
   "cell_type": "code",
   "execution_count": 58,
   "id": "e9954870",
   "metadata": {},
   "outputs": [],
   "source": [
    "# initilize the lable encoder\n",
    "encoder= LabelEncoder()"
   ]
  },
  {
   "cell_type": "code",
   "execution_count": 70,
   "id": "5934205a",
   "metadata": {},
   "outputs": [],
   "source": [
    "# fit_transform the y_train\n",
    "y_train_encoded= encoder.fit_transform(y_train)"
   ]
  },
  {
   "cell_type": "code",
   "execution_count": 71,
   "id": "fb0888ea",
   "metadata": {},
   "outputs": [],
   "source": [
    "y_test_encoded= encoder.transform(y_test)"
   ]
  },
  {
   "cell_type": "code",
   "execution_count": 72,
   "id": "ce86025d",
   "metadata": {},
   "outputs": [],
   "source": [
    "# to know which class assigned to which label\n",
    "label_mapping = dict(zip(encoder.classes_, encoder.transform(encoder.classes_)))"
   ]
  },
  {
   "cell_type": "code",
   "execution_count": 73,
   "id": "c252d7e1",
   "metadata": {},
   "outputs": [
    {
     "data": {
      "text/plain": [
       "{'setosa': 0, 'versicolor': 1, 'virginica': 2}"
      ]
     },
     "execution_count": 73,
     "metadata": {},
     "output_type": "execute_result"
    }
   ],
   "source": [
    "label_mapping"
   ]
  },
  {
   "cell_type": "code",
   "execution_count": null,
   "id": "48f8d017",
   "metadata": {},
   "outputs": [],
   "source": []
  },
  {
   "cell_type": "markdown",
   "id": "e8d79c63",
   "metadata": {},
   "source": [
    "# Hyper Param tuning using Combination of Random and GridSearchCV"
   ]
  },
  {
   "cell_type": "code",
   "execution_count": 80,
   "id": "de85e8fc",
   "metadata": {},
   "outputs": [],
   "source": [
    "from sklearn.linear_model import LogisticRegression\n",
    "from sklearn.model_selection import RandomizedSearchCV, GridSearchCV\n",
    "# from sklearn.pipeline import Pipeline\n",
    "import numpy as np\n",
    "import warnings\n",
    "warnings.filterwarnings(\"ignore\")"
   ]
  },
  {
   "cell_type": "code",
   "execution_count": 81,
   "id": "ac311be8",
   "metadata": {},
   "outputs": [],
   "source": [
    "# create a pipeline with label-encoding the target and logistic reg model.\n",
    "# model= Pipeline([\n",
    "#     (\"label_encoder\", LabelEncoder()),\n",
    "#     (\"log_reg\", LogisticRegression())\n",
    "# ])\n",
    "# this pipeline doesnt work as label_encoder doesnt work as StandardScaler() we need to explicitly encode outside \n",
    "#this pipeline or use ColumnTransformer method"
   ]
  },
  {
   "cell_type": "code",
   "execution_count": 82,
   "id": "cae10491",
   "metadata": {},
   "outputs": [],
   "source": [
    "# initialize LogisticRegression\n",
    "log_reg= LogisticRegression()"
   ]
  },
  {
   "cell_type": "code",
   "execution_count": 83,
   "id": "34b934bd",
   "metadata": {},
   "outputs": [],
   "source": [
    "# Define the params of logisitc regression in param distribution for randomized search cv.\n",
    "param_dist_random= {\n",
    "    \"C\": np.logspace(-4, 4, 20),\n",
    "    \"solver\": [\"newton-cg\", \"lbfgs\", \"liblinear\", \"sag\", \"saga\"],\n",
    "    \"penalty\": [\"l1\", \"l2\"],\n",
    "    \"multi_class\": [\"ovr\", \"multinomial\"],\n",
    "    \"tol\": [1e-4, 1e-3, 1e-2], # model will stop once the slopes values changes below than this difference.\n",
    "    \"max_iter\": [50,100,200,500]\n",
    "}"
   ]
  },
  {
   "cell_type": "code",
   "execution_count": 87,
   "id": "97acb6a5",
   "metadata": {},
   "outputs": [],
   "source": [
    "# Perform Randomized Search\n",
    "random_search = RandomizedSearchCV(\n",
    "    log_reg,\n",
    "    param_distributions=param_dist_random,\n",
    "    n_iter=10,  # Number of random samples\n",
    "    cv=5,       # Cross-validation folds\n",
    "    scoring=\"accuracy\", # its classification problem so i have chosen accuracy we can chose f1_score, precision..etc.\n",
    "    random_state=42\n",
    ")"
   ]
  },
  {
   "cell_type": "code",
   "execution_count": 88,
   "id": "ae6326b3",
   "metadata": {},
   "outputs": [
    {
     "data": {
      "text/plain": [
       "RandomizedSearchCV(cv=5, estimator=LogisticRegression(),\n",
       "                   param_distributions={'C': array([1.00000000e-04, 2.63665090e-04, 6.95192796e-04, 1.83298071e-03,\n",
       "       4.83293024e-03, 1.27427499e-02, 3.35981829e-02, 8.85866790e-02,\n",
       "       2.33572147e-01, 6.15848211e-01, 1.62377674e+00, 4.28133240e+00,\n",
       "       1.12883789e+01, 2.97635144e+01, 7.84759970e+01, 2.06913808e+02,\n",
       "       5.45559478e+02, 1.43844989e+03, 3.79269019e+03, 1.00000000e+04]),\n",
       "                                        'max_iter': [50, 100, 200, 500],\n",
       "                                        'multi_class': ['ovr', 'multinomial'],\n",
       "                                        'penalty': ['l1', 'l2'],\n",
       "                                        'solver': ['newton-cg', 'lbfgs',\n",
       "                                                   'liblinear', 'sag', 'saga'],\n",
       "                                        'tol': [0.0001, 0.001, 0.01]},\n",
       "                   random_state=42, scoring='accuracy')"
      ]
     },
     "execution_count": 88,
     "metadata": {},
     "output_type": "execute_result"
    }
   ],
   "source": [
    "# Fit the random_search model to the train data\n",
    "random_search.fit(X_train, y_train_encoded)"
   ]
  },
  {
   "cell_type": "code",
   "execution_count": 93,
   "id": "de7fa558",
   "metadata": {},
   "outputs": [],
   "source": [
    "# Get the best hyperparameters from Randomized Search\n",
    "best_params_random_search = random_search.best_params_"
   ]
  },
  {
   "cell_type": "code",
   "execution_count": 94,
   "id": "4b031609",
   "metadata": {},
   "outputs": [
    {
     "data": {
      "text/plain": [
       "{'tol': 0.0001,\n",
       " 'solver': 'sag',\n",
       " 'penalty': 'l2',\n",
       " 'multi_class': 'ovr',\n",
       " 'max_iter': 100,\n",
       " 'C': 78.47599703514607}"
      ]
     },
     "execution_count": 94,
     "metadata": {},
     "output_type": "execute_result"
    }
   ],
   "source": [
    "best_params_random_search"
   ]
  },
  {
   "cell_type": "code",
   "execution_count": 95,
   "id": "3ddaed63",
   "metadata": {},
   "outputs": [],
   "source": [
    "# Define hyperparameter search space for Grid Search around the best parameters from Randomized Search\n",
    "grid_param_grid = {\n",
    "    \"tol\": [best_params_random_search[\"tol\"]],\n",
    "    \"solver\": [best_params_random_search[\"solver\"]],\n",
    "    \"penalty\": [best_params_random_search[\"penalty\"]],\n",
    "    \"multi_class\": [best_params_random_search[\"multi_class\"]],\n",
    "    \"max_iter\": np.arange(50, 500, 50), # i have taken all the best params from random_search_cv. except this one\n",
    "    \"C\": [best_params_random_search[\"C\"]],\n",
    "}"
   ]
  },
  {
   "cell_type": "code",
   "execution_count": 97,
   "id": "e47635a8",
   "metadata": {},
   "outputs": [],
   "source": [
    "# Perform Grid Search around the best parameters from Randomized Search\n",
    "random_grid_search = GridSearchCV(\n",
    "    log_reg, \n",
    "    param_grid=grid_param_grid,\n",
    "    cv=5,       # Cross-validation folds\n",
    "    scoring=\"accuracy\",\n",
    "    verbose=1\n",
    ")"
   ]
  },
  {
   "cell_type": "code",
   "execution_count": 99,
   "id": "fd1db8e4",
   "metadata": {},
   "outputs": [
    {
     "name": "stdout",
     "output_type": "stream",
     "text": [
      "Fitting 5 folds for each of 9 candidates, totalling 45 fits\n"
     ]
    },
    {
     "data": {
      "text/plain": [
       "GridSearchCV(cv=5, estimator=LogisticRegression(),\n",
       "             param_grid={'C': [78.47599703514607],\n",
       "                         'max_iter': array([ 50, 100, 150, 200, 250, 300, 350, 400, 450]),\n",
       "                         'multi_class': ['ovr'], 'penalty': ['l2'],\n",
       "                         'solver': ['sag'], 'tol': [0.0001]},\n",
       "             scoring='accuracy', verbose=1)"
      ]
     },
     "execution_count": 99,
     "metadata": {},
     "output_type": "execute_result"
    }
   ],
   "source": [
    "# Fit the grid_Search model to the train data\n",
    "random_grid_search.fit(X_train, y_train_encoded)"
   ]
  },
  {
   "cell_type": "code",
   "execution_count": 100,
   "id": "bf25186f",
   "metadata": {},
   "outputs": [],
   "source": [
    "# Get the best hyperparameters from Grid Search\n",
    "best_params_grid = random_grid_search.best_params_"
   ]
  },
  {
   "cell_type": "code",
   "execution_count": 101,
   "id": "d5e25112",
   "metadata": {},
   "outputs": [
    {
     "data": {
      "text/plain": [
       "{'C': 78.47599703514607,\n",
       " 'max_iter': 100,\n",
       " 'multi_class': 'ovr',\n",
       " 'penalty': 'l2',\n",
       " 'solver': 'sag',\n",
       " 'tol': 0.0001}"
      ]
     },
     "execution_count": 101,
     "metadata": {},
     "output_type": "execute_result"
    }
   ],
   "source": [
    "best_params_grid"
   ]
  },
  {
   "cell_type": "code",
   "execution_count": 102,
   "id": "9d3577b8",
   "metadata": {},
   "outputs": [
    {
     "name": "stdout",
     "output_type": "stream",
     "text": [
      "Best Hyperparameters from Randomized Search: {'tol': 0.0001, 'solver': 'sag', 'penalty': 'l2', 'multi_class': 'ovr', 'max_iter': 100, 'C': 78.47599703514607}\n",
      "Best Hyperparameters from Grid Search: {'C': 78.47599703514607, 'max_iter': 100, 'multi_class': 'ovr', 'penalty': 'l2', 'solver': 'sag', 'tol': 0.0001}\n",
      "Best R-squared Score:  0.9553359683794467\n"
     ]
    }
   ],
   "source": [
    "# Compare the results\n",
    "print(\"Best Hyperparameters from Randomized Search:\", best_params_random)\n",
    "print(\"Best Hyperparameters from Grid Search:\", best_params_grid)\n",
    "print(\"Best R-squared Score: \", random_grid_search.best_score_)"
   ]
  },
  {
   "cell_type": "code",
   "execution_count": 103,
   "id": "e2a2f396",
   "metadata": {},
   "outputs": [],
   "source": [
    "# Evaluate on the test set\n",
    "best_model_grid = random_grid_search.best_estimator_\n",
    "y_pred= best_model_grid.predict(X_test)"
   ]
  },
  {
   "cell_type": "code",
   "execution_count": 104,
   "id": "d8d0bdc2",
   "metadata": {},
   "outputs": [],
   "source": [
    "from sklearn.metrics import accuracy_score, confusion_matrix, classification_report"
   ]
  },
  {
   "cell_type": "code",
   "execution_count": 105,
   "id": "b0272a8c",
   "metadata": {},
   "outputs": [],
   "source": [
    "# lets see the metrics\n",
    "accuracy = accuracy_score(y_test_encoded, y_pred)\n",
    "conf_matrix = confusion_matrix(y_test_encoded, y_pred)\n",
    "classification_report = classification_report(y_test_encoded, y_pred)"
   ]
  },
  {
   "cell_type": "code",
   "execution_count": 106,
   "id": "6fa3db8e",
   "metadata": {},
   "outputs": [
    {
     "data": {
      "text/plain": [
       "1.0"
      ]
     },
     "execution_count": 106,
     "metadata": {},
     "output_type": "execute_result"
    }
   ],
   "source": [
    "accuracy"
   ]
  },
  {
   "cell_type": "code",
   "execution_count": 107,
   "id": "39017fb6",
   "metadata": {},
   "outputs": [
    {
     "data": {
      "text/plain": [
       "array([[15,  0,  0],\n",
       "       [ 0, 11,  0],\n",
       "       [ 0,  0, 12]], dtype=int64)"
      ]
     },
     "execution_count": 107,
     "metadata": {},
     "output_type": "execute_result"
    }
   ],
   "source": [
    "conf_matrix"
   ]
  },
  {
   "cell_type": "code",
   "execution_count": 108,
   "id": "ff7fe440",
   "metadata": {},
   "outputs": [
    {
     "name": "stdout",
     "output_type": "stream",
     "text": [
      "              precision    recall  f1-score   support\n",
      "\n",
      "           0       1.00      1.00      1.00        15\n",
      "           1       1.00      1.00      1.00        11\n",
      "           2       1.00      1.00      1.00        12\n",
      "\n",
      "    accuracy                           1.00        38\n",
      "   macro avg       1.00      1.00      1.00        38\n",
      "weighted avg       1.00      1.00      1.00        38\n",
      "\n"
     ]
    }
   ],
   "source": [
    "print(classification_report)"
   ]
  },
  {
   "cell_type": "code",
   "execution_count": null,
   "id": "6499e9af",
   "metadata": {},
   "outputs": [],
   "source": []
  },
  {
   "cell_type": "code",
   "execution_count": null,
   "id": "9bba3255",
   "metadata": {},
   "outputs": [],
   "source": []
  },
  {
   "cell_type": "code",
   "execution_count": null,
   "id": "7fdd975c",
   "metadata": {},
   "outputs": [],
   "source": []
  }
 ],
 "metadata": {
  "kernelspec": {
   "display_name": "Python 3 (ipykernel)",
   "language": "python",
   "name": "python3"
  },
  "language_info": {
   "codemirror_mode": {
    "name": "ipython",
    "version": 3
   },
   "file_extension": ".py",
   "mimetype": "text/x-python",
   "name": "python",
   "nbconvert_exporter": "python",
   "pygments_lexer": "ipython3",
   "version": "3.9.15"
  }
 },
 "nbformat": 4,
 "nbformat_minor": 5
}
